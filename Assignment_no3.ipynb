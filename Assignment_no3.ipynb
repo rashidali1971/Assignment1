{
 "cells": [
  {
   "cell_type": "code",
   "execution_count": 2,
   "metadata": {},
   "outputs": [
    {
     "name": "stdout",
     "output_type": "stream",
     "text": [
      "Enter mathmatical operator (+,-,*,/,^) for calculate : )+\n",
      "Enter first number for calculate: 10\n",
      "Enter second number for calculate: 40\n",
      "Addition of 1st and 2nd number =  50.0\n"
     ]
    }
   ],
   "source": [
    "# Q1 Assignment No3 \n",
    "\n",
    "# Take input from the user \n",
    "\n",
    "operator = input(\"Enter mathmatical operator (+,-,*,/,^) for calculate : )\")\n",
    "\n",
    "num1 = float(input(\"Enter first number for calculate: \"))\n",
    "num2 = float(input(\"Enter second number for calculate: \"))\n",
    "\n",
    "if operator == '+':\n",
    "    num = num1 + num2\n",
    "    print(\"Addition of 1st and 2nd number = \", num)\n",
    "elif operator == '-':\n",
    "    num = num1 - num2\n",
    "    print(\"Subtraction of 1st and 2nd number = \", num)\n",
    "elif operator == '*':\n",
    "    num = num1 * num2\n",
    "    print(\"Multiplication of 1st and 2nd number = \", num)\n",
    "elif operator == '/':\n",
    "    num = num1 / num2\n",
    "    print(\"Division of 1st and 2nd number = \", num)\n",
    "elif operator == '^':\n",
    "    num = num1 ** num2\n",
    "    print(\"1st number power of 2nd number = \", num)\n",
    "else:\n",
    "    print(\"Invalid input, enter correct operator\")  \n"
   ]
  },
  {
   "cell_type": "code",
   "execution_count": 22,
   "metadata": {},
   "outputs": [
    {
     "name": "stdout",
     "output_type": "stream",
     "text": [
      "0\n",
      "40\n",
      "3\n",
      "500\n",
      "65\n",
      "2000\n"
     ]
    }
   ],
   "source": [
    "# Q2 Assignment No3 \n",
    "\n",
    "# Initializing list  \n",
    "\n",
    "m_list = [ 0, 'Apple', 40, 3, 500, 'Orange', 65, 2000, 'Banana', 'Mango' ] \n",
    " \n",
    "\n",
    "for i in m_list:  \n",
    "    if (str(i).isnumeric()) == True: \n",
    "        print(i)\n",
    "    \n",
    "\n"
   ]
  },
  {
   "cell_type": "code",
   "execution_count": 27,
   "metadata": {},
   "outputs": [
    {
     "name": "stdout",
     "output_type": "stream",
     "text": [
      "{0: 'cat', 1: 'dog', 2: 'cow'}\n",
      "{0: 'cat', 1: 'dog', 2: 'cow', 3: 'Elephant'}\n"
     ]
    }
   ],
   "source": [
    "# Q3 Assignment No3 \n",
    "\n",
    "# Initializing Dictionary\n",
    "m_dic = {0:'cat', 1:'dog',2:'cow'}  \n",
    "\n",
    "print(m_dic) \n",
    "m_dic[3] = 'Elephant'\n",
    "print(m_dic) \n",
    "  \n"
   ]
  },
  {
   "cell_type": "code",
   "execution_count": 110,
   "metadata": {},
   "outputs": [
    {
     "name": "stdout",
     "output_type": "stream",
     "text": [
      "Sum of all numaric values in the dictionary-1st Method:  1045\n"
     ]
    }
   ],
   "source": [
    "# Q4 Assignment No3 \n",
    "\n",
    "# Initializing Dictionary\n",
    "\n",
    "m_dic = { 'k0':0, 'k2':'Chair', 'k3':40, 'k4':5, 'k5':20, 'k6':'Table', 'k7':880, 'K8':100,'k9':5 }\n",
    "\n",
    "# Initializing Variables\n",
    "a = 0\n",
    "b = 0\n",
    "\n",
    "for i in m_dic.values(): \n",
    "    b = b + 1\n",
    "    if len (m_dic) == b: \n",
    "        print(\"Sum of all numaric values in the dictionary-1st Method: \", a)\n",
    "        break\n",
    "    if (str(i).isnumeric()) == True: \n",
    "        a = a + i\n",
    "             \n"
   ]
  },
  {
   "cell_type": "code",
   "execution_count": 124,
   "metadata": {},
   "outputs": [
    {
     "name": "stdout",
     "output_type": "stream",
     "text": [
      "Deplicate number :  [1, 4, 5]\n"
     ]
    }
   ],
   "source": [
    "# Q5 Assignment No3 \n",
    "\n",
    "# Initializing two List\n",
    "m_list = [1, 2, 3, 1, 4, 5, 4, 6, 5] \n",
    "duplicate_list = [] \n",
    "\n",
    "list_size = len(m_list) \n",
    "\n",
    "for i in range(list_size): \n",
    "    k = i + 1\n",
    "    if k == list_size:\n",
    "        print(\"Deplicate number : \", duplicate_list)  \n",
    "    for j in range(k, list_size): \n",
    "        if m_list[i] == m_list[j] and m_list[i] not in duplicate_list: \n",
    "            duplicate_list.append(m_list[i]) \n",
    "    \n",
    "  "
   ]
  },
  {
   "cell_type": "code",
   "execution_count": 4,
   "metadata": {},
   "outputs": [
    {
     "name": "stdout",
     "output_type": "stream",
     "text": [
      "Enter key to check:B\n",
      "Key is present and value of the key is: 2\n"
     ]
    }
   ],
   "source": [
    "# Q6 Assignment No3 \n",
    "\n",
    "d={'A':1,'B':2,'C':3}\n",
    "key= input(\"Enter key to check:\")\n",
    "if key in d.keys():\n",
    "      print(\"Key is present and value of the key is:\",d[key])\n",
    "else:\n",
    "      print(\"Key is not present!\")\n"
   ]
  },
  {
   "cell_type": "code",
   "execution_count": null,
   "metadata": {},
   "outputs": [],
   "source": [
    "\n",
    "\n",
    "\n",
    "\n"
   ]
  },
  {
   "cell_type": "code",
   "execution_count": null,
   "metadata": {},
   "outputs": [],
   "source": []
  },
  {
   "cell_type": "code",
   "execution_count": null,
   "metadata": {},
   "outputs": [],
   "source": []
  }
 ],
 "metadata": {
  "kernelspec": {
   "display_name": "Python 3",
   "language": "python",
   "name": "python3"
  },
  "language_info": {
   "codemirror_mode": {
    "name": "ipython",
    "version": 3
   },
   "file_extension": ".py",
   "mimetype": "text/x-python",
   "name": "python",
   "nbconvert_exporter": "python",
   "pygments_lexer": "ipython3",
   "version": "3.7.4"
  }
 },
 "nbformat": 4,
 "nbformat_minor": 2
}
