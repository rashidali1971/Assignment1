{
 "cells": [
  {
   "cell_type": "code",
   "execution_count": 1,
   "metadata": {},
   "outputs": [
    {
     "name": "stdout",
     "output_type": "stream",
     "text": [
      "First Name: Rashid\n",
      "Second Name: Ali\n",
      "Age: 48\n",
      "City: Karachi\n",
      "Qualification: Matric\n",
      "Updated high academic level qualification: M.Sc.\n",
      "Dictionary: {'first_name': 'Rashid', 'last_name': 'Ali', 'age': 48, 'city': 'Karachi'}\n"
     ]
    }
   ],
   "source": [
    "# Q1. ASSIGNMENT NO. 4\n",
    "# Create Dictionary\n",
    "person = {\n",
    "    'first_name': 'Rashid',\n",
    "    'last_name': 'Ali',\n",
    "    'age': 48,\n",
    "    'city': 'Karachi',\n",
    "    }\n",
    "\n",
    "print(\"First Name:\",person['first_name'])\n",
    "print(\"Second Name:\",person['last_name'])\n",
    "print(\"Age:\",person['age'])\n",
    "print(\"City:\",person['city'])\n",
    "\n",
    "# Add new Key Qualification\n",
    "person['Qualification'] = 'Matric'\n",
    "print(\"Qualification:\",person['Qualification'])\n",
    "\n",
    "# Update Key Qualification\n",
    "person['Qualification'] = 'M.Sc.'\n",
    "print(\"Updated high academic level qualification:\",person['Qualification'])\n",
    "\n",
    "# Delete Key Qualification\n",
    "del person['Qualification'] \n",
    "print(\"Dictionary:\",person)\n",
    "\n"
   ]
  },
  {
   "cell_type": "code",
   "execution_count": 2,
   "metadata": {},
   "outputs": [
    {
     "name": "stdout",
     "output_type": "stream",
     "text": [
      "\n",
      "karachi is in Pakistan.\n",
      "  It has a population of about 15400000.\n",
      "  The fact is City of light\n",
      "\n",
      "Mecca is in Saudi Arabia.\n",
      "  It has a population of about 1675368.\n",
      "  The fact is Only Muslims are allowed in the city \n",
      " the central Masjid al-Haram (Sacred Mosque) surrounds the Kaaba \n",
      " millions arriving for the annual Hajj (pilgrimage)\n",
      "\n",
      "sydney is in Australia.\n",
      "  It has a population of about 4741874.\n",
      "  The fact is Sydney Harbour Bridge\n"
     ]
    }
   ],
   "source": [
    "# Q2. ASSIGNMENT NO. 4\n",
    "# Create Dictionary\n",
    "cities = {\n",
    "    'karachi': {\n",
    "        'country': 'Pakistan',\n",
    "        'population': 15400000,\n",
    "        'fact': 'City of light',\n",
    "        },\n",
    "    'Mecca': {\n",
    "        'country': 'Saudi Arabia',\n",
    "        'population': 1675368,\n",
    "        'fact': 'Only Muslims are allowed in the city \\n the central Masjid al-Haram (Sacred Mosque) surrounds the Kaaba \\n millions arriving for the annual Hajj (pilgrimage)',\n",
    "        },\n",
    "    'sydney': {\n",
    "        'country': 'Australia',\n",
    "        'population': 4741874,\n",
    "        'fact': 'Sydney Harbour Bridge',\n",
    "        }\n",
    "    }\n",
    "\n",
    "for city, city_info in cities.items():\n",
    "    country = city_info['country']\n",
    "    population = city_info['population']\n",
    "    fact = city_info['fact']\n",
    "\n",
    "    print(\"\\n\" + city + \" is in \" + country + \".\")\n",
    "    print(\"  It has a population of about \" + str(population) + \".\")\n",
    "    print(\"  The fact is \" + fact)\n"
   ]
  },
  {
   "cell_type": "code",
   "execution_count": 3,
   "metadata": {},
   "outputs": [
    {
     "name": "stdout",
     "output_type": "stream",
     "text": [
      "Enter age for ticket or 'E' for exit45\n",
      "  Your ticket is $15.\n",
      "Enter age for ticket or 'E' for exitE\n"
     ]
    }
   ],
   "source": [
    "# Q3. ASSIGNMENT NO. 4\n",
    "\n",
    "x = \"Enter age for ticket or 'E' for exit \"\n",
    "\n",
    "while True:\n",
    "    age = input(x)\n",
    "    if age == 'E':\n",
    "        break\n",
    "    age = int(age)\n",
    "\n",
    "    if age < 3:\n",
    "        print(\"  You get in free!\")\n",
    "    elif age < 13:\n",
    "        print(\"  Your ticket is $10.\")\n",
    "    else:\n",
    "        print(\"  Your ticket is $15.\")"
   ]
  },
  {
   "cell_type": "code",
   "execution_count": 5,
   "metadata": {},
   "outputs": [
    {
     "name": "stdout",
     "output_type": "stream",
     "text": [
      "The Holly Quran is one of my favorite books.\n"
     ]
    }
   ],
   "source": [
    "# Q4. ASSIGNMENT NO. 4\n",
    "\n",
    "def favorite_book(title):\n",
    "    \n",
    "    print(title + \" is one of my favorite books.\")\n",
    "\n",
    "favorite_book('The Holly Quran')\n"
   ]
  },
  {
   "cell_type": "code",
   "execution_count": 6,
   "metadata": {},
   "outputs": [
    {
     "name": "stdout",
     "output_type": "stream",
     "text": [
      "Guess a number between 1 and 30 until you get it right : 5\n",
      "too low\n",
      "Guess a number between 1 and 30 until you get it right : 10\n",
      "Well guessed!\n"
     ]
    }
   ],
   "source": [
    "# Q5. ASSIGNMENT NO. 4\n",
    "\n",
    "import random\n",
    "\n",
    "target_num =  random.randint(1, 30)\n",
    "guess_num =  0\n",
    "\n",
    "while guess_num != target_num:\n",
    "    guess_num = int(input('Guess a number between 1 and 30 until you get it right : '))\n",
    "    if guess_num > 30:\n",
    "        print(\"enter correct number between 1 and 30\") \n",
    "    elif guess_num == target_num :\n",
    "        print('Well guessed!')\n",
    "    elif guess_num > target_num:\n",
    "         print('too high')\n",
    "    elif guess_num < target_num:\n",
    "         print('too low')\n",
    "\n"
   ]
  },
  {
   "cell_type": "code",
   "execution_count": null,
   "metadata": {},
   "outputs": [],
   "source": []
  }
 ],
 "metadata": {
  "kernelspec": {
   "display_name": "Python 3",
   "language": "python",
   "name": "python3"
  },
  "language_info": {
   "codemirror_mode": {
    "name": "ipython",
    "version": 3
   },
   "file_extension": ".py",
   "mimetype": "text/x-python",
   "name": "python",
   "nbconvert_exporter": "python",
   "pygments_lexer": "ipython3",
   "version": "3.7.4"
  }
 },
 "nbformat": 4,
 "nbformat_minor": 2
}
