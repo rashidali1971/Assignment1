{
 "cells": [
  {
   "cell_type": "code",
   "execution_count": 2,
   "metadata": {},
   "outputs": [
    {
     "name": "stdout",
     "output_type": "stream",
     "text": [
      "Twinkle, twinkle, little star,\n",
      "      How I wonder what you are!\n",
      "            Up above the world so high,\n",
      "            Like a diamond in the sky.\n",
      "Twinkle, twinkle, little star,\n",
      "      How I wonder what you are!\n"
     ]
    }
   ],
   "source": [
    "# Q 1 - Python Programming Language Assignmnet # 1 \n",
    "print(\"Twinkle, twinkle, little star,\");\n",
    "print(\"      How I wonder what you are!\");\n",
    "print(\"            Up above the world so high,\");\n",
    "print(\"            Like a diamond in the sky.\");\n",
    "print(\"Twinkle, twinkle, little star,\");\n",
    "print(\"      How I wonder what you are!\");"
   ]
  },
  {
   "cell_type": "code",
   "execution_count": 4,
   "metadata": {},
   "outputs": [
    {
     "name": "stdout",
     "output_type": "stream",
     "text": [
      "Python version\n",
      "3.7.4 (default, Aug  9 2019, 18:34:13) [MSC v.1915 64 bit (AMD64)]\n"
     ]
    }
   ],
   "source": [
    "# Q 2 - Python Programming Language Assignmnet # 1 \n",
    "import sys\n",
    "print(\"Python version\")\n",
    "print (sys.version)"
   ]
  },
  {
   "cell_type": "code",
   "execution_count": 16,
   "metadata": {},
   "outputs": [
    {
     "name": "stdout",
     "output_type": "stream",
     "text": [
      "Current date and time : \n",
      "2019-11-04 16:19:45\n"
     ]
    }
   ],
   "source": [
    "# Q 3 - Python Programming Language Assignmnet # 1 \n",
    "import datetime\n",
    "\n",
    "now = datetime.datetime.now()\n",
    "print (\"Current date and time : \")\n",
    "print (now.strftime(\"%Y-%m-%d %H:%M:%S\"))\n",
    "\n"
   ]
  },
  {
   "cell_type": "code",
   "execution_count": 19,
   "metadata": {},
   "outputs": [
    {
     "name": "stdout",
     "output_type": "stream",
     "text": [
      "Enter the radius of the circle : 3\n",
      "The area of the circle is : 28.274333882308138\n"
     ]
    }
   ],
   "source": [
    "# Q 4 - Python Programming Language Assignmnet # 1 \n",
    "from math import pi\n",
    "r = float(input (\"Enter the radius of the circle : \"));\n",
    "print (\"The area of the circle is : \" + str(pi * r**2));\n"
   ]
  },
  {
   "cell_type": "code",
   "execution_count": 23,
   "metadata": {},
   "outputs": [
    {
     "name": "stdout",
     "output_type": "stream",
     "text": [
      "Enter your First Name : Rashid \n",
      "Enter your Last Name : Ali\n",
      "My name is :Ali Rashid \n"
     ]
    }
   ],
   "source": [
    "# Q 5 - Python Programming Language Assignmnet # 1 \n",
    "first_name = input(\"Enter your First Name : \"); \n",
    "last_name = input(\"Enter your Last Name : \"); \n",
    "print(\"My name is :\" + last_name + \" \" + first_name); \n"
   ]
  },
  {
   "cell_type": "code",
   "execution_count": 31,
   "metadata": {},
   "outputs": [
    {
     "name": "stdout",
     "output_type": "stream",
     "text": [
      "First number: 6\n",
      "Second number: 6\n",
      "The sum of first and second number : 12.0\n"
     ]
    }
   ],
   "source": [
    "# Q 6 - Python Programming Language Assignmnet # 1 \n",
    "  \n",
    "number1 = input(\"First number: \"); \n",
    "number2 = input(\"Second number: \"); \n",
    "  \n",
    "sum = float(number1) + float(number2) \n",
    "\n",
    "print(\"The sum of first and second number : \" + str(sum));\n"
   ]
  },
  {
   "cell_type": "code",
   "execution_count": null,
   "metadata": {},
   "outputs": [],
   "source": []
  }
 ],
 "metadata": {
  "kernelspec": {
   "display_name": "Python 3",
   "language": "python",
   "name": "python3"
  },
  "language_info": {
   "codemirror_mode": {
    "name": "ipython",
    "version": 3
   },
   "file_extension": ".py",
   "mimetype": "text/x-python",
   "name": "python",
   "nbconvert_exporter": "python",
   "pygments_lexer": "ipython3",
   "version": "3.7.4"
  }
 },
 "nbformat": 4,
 "nbformat_minor": 2
}
