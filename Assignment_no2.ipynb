{
 "cells": [
  {
   "cell_type": "code",
   "execution_count": 16,
   "metadata": {},
   "outputs": [
    {
     "name": "stdout",
     "output_type": "stream",
     "text": [
      "Enter marks Math subject: 100\n",
      "Enter marks Physics subject: 80\n",
      "Enter marks Chemistry subject: 70\n",
      "Enter marks English subject: 60\n",
      "Enter marks Urdu subject: 50\n",
      "Grade: A\n"
     ]
    }
   ],
   "source": [
    "# Q1. Assignment # 2\n",
    "\n",
    "# Taking subjects inputs\n",
    "sub_math=int(input(\"Enter marks Math subject: \"))\n",
    "sub_physics=int(input(\"Enter marks Physics subject: \"))\n",
    "sub_chemistry=int(input(\"Enter marks Chemistry subject: \"))\n",
    "sub_english=int(input(\"Enter marks English subject: \"))\n",
    "sub_urdu=int(input(\"Enter marks Urdu subject: \"))\n",
    "\n",
    "# Calculate average\n",
    "avg=(sub_math+sub_physics+sub_chemistry+sub_english+sub_urdu)/5\n",
    "\n",
    "# Checking and prining grade\n",
    "if(avg>=80):\n",
    "    print(\"Grade: A1\");\n",
    "elif(avg>=70 and avg<80):\n",
    "    print(\"Grade: A\");\n",
    "elif(avg>=60 and avg<70):\n",
    "    print(\"Grade: B\");\n",
    "elif(avg>=50 and avg<60):\n",
    "    print(\"Grade: C\");\n",
    "elif(avg>=40 and avg<50):\n",
    "    print(\"Grade: D\");\n",
    "else:\n",
    "    print(\"Grade: F\");"
   ]
  },
  {
   "cell_type": "code",
   "execution_count": 6,
   "metadata": {},
   "outputs": [
    {
     "name": "stdout",
     "output_type": "stream",
     "text": [
      "Enter a number: 5\n",
      "This is an odd number.\n"
     ]
    }
   ],
   "source": [
    "# Q2. Assignment # 2\n",
    "\n",
    "# Taking input number\n",
    "num = int(input(\"Enter a number: \")) \n",
    "\n",
    "# Calculate reminder\n",
    "reminder = num % 2 \n",
    "\n",
    "# Checking even or odd number\n",
    "if reminder  > 0: \n",
    "    print(\"This is an odd number.\") \n",
    "else: \n",
    "    print(\"This is an even number.\") \n"
   ]
  },
  {
   "cell_type": "code",
   "execution_count": 15,
   "metadata": {},
   "outputs": [
    {
     "name": "stdout",
     "output_type": "stream",
     "text": [
      "List length is  4\n"
     ]
    }
   ],
   "source": [
    "# Q3. Assignment # 2\n",
    "\n",
    "lst = [0, 1, 4, 9]\n",
    "list_length = len(lst);\n",
    "print(\"List length is \",list_length);\n",
    "\n",
    "\n",
    "\n",
    "\n",
    "\n"
   ]
  },
  {
   "cell_type": "code",
   "execution_count": 18,
   "metadata": {},
   "outputs": [
    {
     "name": "stdout",
     "output_type": "stream",
     "text": [
      "Sum of list item is :  15\n"
     ]
    }
   ],
   "source": [
    "# Q4. Assignment # 2\n",
    "a = [1,2,3,4,5]\n",
    "b = sum(a)\n",
    "print(\"Sum of list item is : \",b)\n",
    "\n"
   ]
  },
  {
   "cell_type": "code",
   "execution_count": 19,
   "metadata": {},
   "outputs": [
    {
     "name": "stdout",
     "output_type": "stream",
     "text": [
      "Largest element is: 99\n"
     ]
    }
   ],
   "source": [
    "# Q5. Assignment # 2\n",
    " \n",
    "# list of numbers \n",
    "list1 = [10, 20, 4, 45, 99] \n",
    "  \n",
    "# printing the maximum element \n",
    "print(\"Largest element is:\", max(list1)) \n"
   ]
  },
  {
   "cell_type": "code",
   "execution_count": 25,
   "metadata": {},
   "outputs": [
    {
     "name": "stdout",
     "output_type": "stream",
     "text": [
      "1\n",
      "1\n",
      "2\n",
      "3\n"
     ]
    }
   ],
   "source": [
    "# Q6. Assignment # 2\n",
    "a = [1, 1, 2, 3, 5, 8, 13, 21, 34, 55, 89]\n",
    "\n",
    "for x in a:\n",
    "    if x < 5:\n",
    "        print(x)\n",
    "\n"
   ]
  },
  {
   "cell_type": "code",
   "execution_count": null,
   "metadata": {},
   "outputs": [],
   "source": []
  }
 ],
 "metadata": {
  "kernelspec": {
   "display_name": "Python 3",
   "language": "python",
   "name": "python3"
  },
  "language_info": {
   "codemirror_mode": {
    "name": "ipython",
    "version": 3
   },
   "file_extension": ".py",
   "mimetype": "text/x-python",
   "name": "python",
   "nbconvert_exporter": "python",
   "pygments_lexer": "ipython3",
   "version": "3.7.4"
  }
 },
 "nbformat": 4,
 "nbformat_minor": 2
}
